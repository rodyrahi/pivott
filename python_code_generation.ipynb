{
 "cells": [
  {
   "cell_type": "code",
   "execution_count": null,
   "id": "733f03a2",
   "metadata": {},
   "outputs": [],
   "source": [
    "\n",
    "import pandas as pd\n",
    "import numpy as np\n",
    "import matplotlib.pyplot as plt\n",
    "import seaborn as sns\n",
    "        "
   ]
  },
  {
   "cell_type": "code",
   "execution_count": null,
   "id": "9226c5af",
   "metadata": {},
   "outputs": [],
   "source": [
    "data_frame = pd.read_csv(\"F:/pivott/pivott/test_data.csv\")"
   ]
  },
  {
   "cell_type": "code",
   "execution_count": null,
   "id": "78f8718a",
   "metadata": {},
   "outputs": [],
   "source": [
    "data_frame = data_frame.drop(columns=['raj'])"
   ]
  },
  {
   "cell_type": "code",
   "execution_count": null,
   "id": "491beb45",
   "metadata": {},
   "outputs": [],
   "source": [
    "data_frame = data_frame.fillna(strategy=['mode'])"
   ]
  }
 ],
 "metadata": {},
 "nbformat": 4,
 "nbformat_minor": 5
}
